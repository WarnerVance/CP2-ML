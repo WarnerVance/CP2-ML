{
 "cells": [
  {
   "cell_type": "code",
   "execution_count": 76,
   "metadata": {},
   "outputs": [],
   "source": [
    "import pandas as pd\n"
   ]
  },
  {
   "cell_type": "code",
   "execution_count": 77,
   "metadata": {},
   "outputs": [
    {
     "name": "stderr",
     "output_type": "stream",
     "text": [
      "/var/folders/fz/ckrqtrgs0zqfznq4jsbhy6bw0000gn/T/ipykernel_33682/3731969719.py:2: FutureWarning: A value is trying to be set on a copy of a DataFrame or Series through chained assignment using an inplace method.\n",
      "The behavior will change in pandas 3.0. This inplace method will never work because the intermediate object on which we are setting values always behaves as a copy.\n",
      "\n",
      "For example, when doing 'df[col].method(value, inplace=True)', try using 'df.method({col: value}, inplace=True)' or df[col] = df[col].method(value) instead, to perform the operation inplace on the original object.\n",
      "\n",
      "\n",
      "  melbourne_data.YearBuilt.fillna(melbourne_data.YearBuilt.mean(), inplace=True)\n",
      "/var/folders/fz/ckrqtrgs0zqfznq4jsbhy6bw0000gn/T/ipykernel_33682/3731969719.py:3: FutureWarning: A value is trying to be set on a copy of a DataFrame or Series through chained assignment using an inplace method.\n",
      "The behavior will change in pandas 3.0. This inplace method will never work because the intermediate object on which we are setting values always behaves as a copy.\n",
      "\n",
      "For example, when doing 'df[col].method(value, inplace=True)', try using 'df.method({col: value}, inplace=True)' or df[col] = df[col].method(value) instead, to perform the operation inplace on the original object.\n",
      "\n",
      "\n",
      "  melbourne_data.BuildingArea.fillna(melbourne_data.BuildingArea.mean(), inplace=True)\n",
      "/var/folders/fz/ckrqtrgs0zqfznq4jsbhy6bw0000gn/T/ipykernel_33682/3731969719.py:4: FutureWarning: A value is trying to be set on a copy of a DataFrame or Series through chained assignment using an inplace method.\n",
      "The behavior will change in pandas 3.0. This inplace method will never work because the intermediate object on which we are setting values always behaves as a copy.\n",
      "\n",
      "For example, when doing 'df[col].method(value, inplace=True)', try using 'df.method({col: value}, inplace=True)' or df[col] = df[col].method(value) instead, to perform the operation inplace on the original object.\n",
      "\n",
      "\n",
      "  melbourne_data.Car.fillna(melbourne_data.Car.mean(), inplace=True)\n"
     ]
    }
   ],
   "source": [
    "melbourne_data = pd.read_csv('melb_data.csv')\n",
    "melbourne_data.YearBuilt.fillna(melbourne_data.YearBuilt.mean(), inplace=True)\n",
    "melbourne_data.BuildingArea.fillna(melbourne_data.BuildingArea.mean(), inplace=True)\n",
    "melbourne_data.Car.fillna(melbourne_data.Car.mean(), inplace=True)\n",
    "melbourne_data.isnull().sum()\n",
    "melbourne_data['Price'] = melbourne_data['Price']*.65\n"
   ]
  },
  {
   "cell_type": "code",
   "execution_count": 78,
   "metadata": {},
   "outputs": [],
   "source": [
    "y = melbourne_data.Price\n",
    "features = ['Rooms', 'Bathroom', 'Landsize', 'Lattitude', 'Longtitude', 'BuildingArea', \"Car\", \"Distance\", \"Postcode\", \"YearBuilt\"]\n",
    "X = melbourne_data[features]"
   ]
  },
  {
   "cell_type": "code",
   "execution_count": 81,
   "metadata": {},
   "outputs": [
    {
     "name": "stdout",
     "output_type": "stream",
     "text": [
      "105810.85852490949\n"
     ]
    }
   ],
   "source": [
    "from sklearn.model_selection import train_test_split\n",
    "X_train, X_test, y_train, y_test = train_test_split(X, y, random_state=1)\n",
    "\n",
    "\n",
    "# use a RandomForestRegressor\n",
    "from sklearn.ensemble import RandomForestRegressor\n",
    "from sklearn.metrics import mean_absolute_error\n",
    "\n",
    "# https://scikit-learn.org/stable/modules/generated/sklearn.ensemble.RandomForestRegressor.html\n",
    "random_forest = RandomForestRegressor(random_state= 1, n_estimators= 10000, n_jobs= -1,max_features= 0.3)\n",
    "random_forest.fit(X_train, y_train)\n",
    "preds = random_forest.predict(X_test)\n",
    "print(mean_absolute_error(y_test, preds))"
   ]
  }
 ],
 "metadata": {
  "kernelspec": {
   "display_name": ".venv",
   "language": "python",
   "name": "python3"
  },
  "language_info": {
   "codemirror_mode": {
    "name": "ipython",
    "version": 3
   },
   "file_extension": ".py",
   "mimetype": "text/x-python",
   "name": "python",
   "nbconvert_exporter": "python",
   "pygments_lexer": "ipython3",
   "version": "3.12.2"
  }
 },
 "nbformat": 4,
 "nbformat_minor": 2
}
