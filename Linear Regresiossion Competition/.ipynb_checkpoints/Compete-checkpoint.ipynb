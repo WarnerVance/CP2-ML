{
 "cells": [
  {
   "cell_type": "code",
   "execution_count": 12,
   "metadata": {
    "ExecuteTime": {
     "end_time": "2024-04-06T14:42:53.278316Z",
     "start_time": "2024-04-06T14:42:52.872077Z"
    }
   },
   "outputs": [],
   "source": [
    "import pandas as pd"
   ]
  },
  {
   "cell_type": "code",
   "outputs": [],
   "source": [
    "mae = []"
   ],
   "metadata": {
    "collapsed": false,
    "ExecuteTime": {
     "end_time": "2024-04-06T14:42:53.282681Z",
     "start_time": "2024-04-06T14:42:53.280234Z"
    }
   },
   "execution_count": 13
  },
  {
   "cell_type": "code",
   "execution_count": 14,
   "metadata": {
    "ExecuteTime": {
     "end_time": "2024-04-06T14:42:53.345268Z",
     "start_time": "2024-04-06T14:42:53.284095Z"
    }
   },
   "outputs": [
    {
     "name": "stderr",
     "output_type": "stream",
     "text": [
      "/var/folders/fz/ckrqtrgs0zqfznq4jsbhy6bw0000gn/T/ipykernel_19675/3979633105.py:2: FutureWarning: A value is trying to be set on a copy of a DataFrame or Series through chained assignment using an inplace method.\n",
      "The behavior will change in pandas 3.0. This inplace method will never work because the intermediate object on which we are setting values always behaves as a copy.\n",
      "\n",
      "For example, when doing 'df[col].method(value, inplace=True)', try using 'df.method({col: value}, inplace=True)' or df[col] = df[col].method(value) instead, to perform the operation inplace on the original object.\n",
      "\n",
      "\n",
      "  melbourne_data.YearBuilt.fillna(melbourne_data.YearBuilt.mean(), inplace=True)\n",
      "/var/folders/fz/ckrqtrgs0zqfznq4jsbhy6bw0000gn/T/ipykernel_19675/3979633105.py:3: FutureWarning: A value is trying to be set on a copy of a DataFrame or Series through chained assignment using an inplace method.\n",
      "The behavior will change in pandas 3.0. This inplace method will never work because the intermediate object on which we are setting values always behaves as a copy.\n",
      "\n",
      "For example, when doing 'df[col].method(value, inplace=True)', try using 'df.method({col: value}, inplace=True)' or df[col] = df[col].method(value) instead, to perform the operation inplace on the original object.\n",
      "\n",
      "\n",
      "  melbourne_data.BuildingArea.fillna(melbourne_data.BuildingArea.mean(), inplace=True)\n",
      "/var/folders/fz/ckrqtrgs0zqfznq4jsbhy6bw0000gn/T/ipykernel_19675/3979633105.py:4: FutureWarning: A value is trying to be set on a copy of a DataFrame or Series through chained assignment using an inplace method.\n",
      "The behavior will change in pandas 3.0. This inplace method will never work because the intermediate object on which we are setting values always behaves as a copy.\n",
      "\n",
      "For example, when doing 'df[col].method(value, inplace=True)', try using 'df.method({col: value}, inplace=True)' or df[col] = df[col].method(value) instead, to perform the operation inplace on the original object.\n",
      "\n",
      "\n",
      "  melbourne_data.Car.fillna(melbourne_data.Car.mean(), inplace=True)\n"
     ]
    },
    {
     "data": {
      "text/plain": "              Suburb           Address  Rooms Type      Price Method  \\\n0         Abbotsford      85 Turner St      2    h   962000.0      S   \n1         Abbotsford   25 Bloomburg St      2    h   672750.0      S   \n2         Abbotsford      5 Charles St      3    h   952250.0     SP   \n3         Abbotsford  40 Federation La      3    h   552500.0     PI   \n4         Abbotsford       55a Park St      4    h  1040000.0     VB   \n...              ...               ...    ...  ...        ...    ...   \n13575  Wheelers Hill      12 Strada Cr      4    h   809250.0      S   \n13576   Williamstown     77 Merrett Dr      3    h   670150.0     SP   \n13577   Williamstown       83 Power St      3    h   760500.0      S   \n13578   Williamstown      96 Verdon St      4    h  1625000.0     PI   \n13579     Yarraville        6 Agnes St      4    h   835250.0     SP   \n\n        SellerG        Date  Distance  Postcode  ...  Bathroom  Car  Landsize  \\\n0        Biggin   3/12/2016       2.5    3067.0  ...       1.0  1.0     202.0   \n1        Biggin   4/02/2016       2.5    3067.0  ...       1.0  0.0     156.0   \n2        Biggin   4/03/2017       2.5    3067.0  ...       2.0  0.0     134.0   \n3        Biggin   4/03/2017       2.5    3067.0  ...       2.0  1.0      94.0   \n4        Nelson   4/06/2016       2.5    3067.0  ...       1.0  2.0     120.0   \n...         ...         ...       ...       ...  ...       ...  ...       ...   \n13575     Barry  26/08/2017      16.7    3150.0  ...       2.0  2.0     652.0   \n13576  Williams  26/08/2017       6.8    3016.0  ...       2.0  2.0     333.0   \n13577     Raine  26/08/2017       6.8    3016.0  ...       2.0  4.0     436.0   \n13578   Sweeney  26/08/2017       6.8    3016.0  ...       1.0  5.0     866.0   \n13579   Village  26/08/2017       6.3    3013.0  ...       1.0  1.0     362.0   \n\n       BuildingArea    YearBuilt  CouncilArea Lattitude  Longtitude  \\\n0         151.96765  1964.684217        Yarra -37.79960   144.99840   \n1          79.00000  1900.000000        Yarra -37.80790   144.99340   \n2         150.00000  1900.000000        Yarra -37.80930   144.99440   \n3         151.96765  1964.684217        Yarra -37.79690   144.99690   \n4         142.00000  2014.000000        Yarra -37.80720   144.99410   \n...             ...          ...          ...       ...         ...   \n13575     151.96765  1981.000000          NaN -37.90562   145.16761   \n13576     133.00000  1995.000000          NaN -37.85927   144.87904   \n13577     151.96765  1997.000000          NaN -37.85274   144.88738   \n13578     157.00000  1920.000000          NaN -37.85908   144.89299   \n13579     112.00000  1920.000000          NaN -37.81188   144.88449   \n\n                       Regionname Propertycount  \n0           Northern Metropolitan        4019.0  \n1           Northern Metropolitan        4019.0  \n2           Northern Metropolitan        4019.0  \n3           Northern Metropolitan        4019.0  \n4           Northern Metropolitan        4019.0  \n...                           ...           ...  \n13575  South-Eastern Metropolitan        7392.0  \n13576        Western Metropolitan        6380.0  \n13577        Western Metropolitan        6380.0  \n13578        Western Metropolitan        6380.0  \n13579        Western Metropolitan        6543.0  \n\n[13580 rows x 21 columns]",
      "text/html": "<div>\n<style scoped>\n    .dataframe tbody tr th:only-of-type {\n        vertical-align: middle;\n    }\n\n    .dataframe tbody tr th {\n        vertical-align: top;\n    }\n\n    .dataframe thead th {\n        text-align: right;\n    }\n</style>\n<table border=\"1\" class=\"dataframe\">\n  <thead>\n    <tr style=\"text-align: right;\">\n      <th></th>\n      <th>Suburb</th>\n      <th>Address</th>\n      <th>Rooms</th>\n      <th>Type</th>\n      <th>Price</th>\n      <th>Method</th>\n      <th>SellerG</th>\n      <th>Date</th>\n      <th>Distance</th>\n      <th>Postcode</th>\n      <th>...</th>\n      <th>Bathroom</th>\n      <th>Car</th>\n      <th>Landsize</th>\n      <th>BuildingArea</th>\n      <th>YearBuilt</th>\n      <th>CouncilArea</th>\n      <th>Lattitude</th>\n      <th>Longtitude</th>\n      <th>Regionname</th>\n      <th>Propertycount</th>\n    </tr>\n  </thead>\n  <tbody>\n    <tr>\n      <th>0</th>\n      <td>Abbotsford</td>\n      <td>85 Turner St</td>\n      <td>2</td>\n      <td>h</td>\n      <td>962000.0</td>\n      <td>S</td>\n      <td>Biggin</td>\n      <td>3/12/2016</td>\n      <td>2.5</td>\n      <td>3067.0</td>\n      <td>...</td>\n      <td>1.0</td>\n      <td>1.0</td>\n      <td>202.0</td>\n      <td>151.96765</td>\n      <td>1964.684217</td>\n      <td>Yarra</td>\n      <td>-37.79960</td>\n      <td>144.99840</td>\n      <td>Northern Metropolitan</td>\n      <td>4019.0</td>\n    </tr>\n    <tr>\n      <th>1</th>\n      <td>Abbotsford</td>\n      <td>25 Bloomburg St</td>\n      <td>2</td>\n      <td>h</td>\n      <td>672750.0</td>\n      <td>S</td>\n      <td>Biggin</td>\n      <td>4/02/2016</td>\n      <td>2.5</td>\n      <td>3067.0</td>\n      <td>...</td>\n      <td>1.0</td>\n      <td>0.0</td>\n      <td>156.0</td>\n      <td>79.00000</td>\n      <td>1900.000000</td>\n      <td>Yarra</td>\n      <td>-37.80790</td>\n      <td>144.99340</td>\n      <td>Northern Metropolitan</td>\n      <td>4019.0</td>\n    </tr>\n    <tr>\n      <th>2</th>\n      <td>Abbotsford</td>\n      <td>5 Charles St</td>\n      <td>3</td>\n      <td>h</td>\n      <td>952250.0</td>\n      <td>SP</td>\n      <td>Biggin</td>\n      <td>4/03/2017</td>\n      <td>2.5</td>\n      <td>3067.0</td>\n      <td>...</td>\n      <td>2.0</td>\n      <td>0.0</td>\n      <td>134.0</td>\n      <td>150.00000</td>\n      <td>1900.000000</td>\n      <td>Yarra</td>\n      <td>-37.80930</td>\n      <td>144.99440</td>\n      <td>Northern Metropolitan</td>\n      <td>4019.0</td>\n    </tr>\n    <tr>\n      <th>3</th>\n      <td>Abbotsford</td>\n      <td>40 Federation La</td>\n      <td>3</td>\n      <td>h</td>\n      <td>552500.0</td>\n      <td>PI</td>\n      <td>Biggin</td>\n      <td>4/03/2017</td>\n      <td>2.5</td>\n      <td>3067.0</td>\n      <td>...</td>\n      <td>2.0</td>\n      <td>1.0</td>\n      <td>94.0</td>\n      <td>151.96765</td>\n      <td>1964.684217</td>\n      <td>Yarra</td>\n      <td>-37.79690</td>\n      <td>144.99690</td>\n      <td>Northern Metropolitan</td>\n      <td>4019.0</td>\n    </tr>\n    <tr>\n      <th>4</th>\n      <td>Abbotsford</td>\n      <td>55a Park St</td>\n      <td>4</td>\n      <td>h</td>\n      <td>1040000.0</td>\n      <td>VB</td>\n      <td>Nelson</td>\n      <td>4/06/2016</td>\n      <td>2.5</td>\n      <td>3067.0</td>\n      <td>...</td>\n      <td>1.0</td>\n      <td>2.0</td>\n      <td>120.0</td>\n      <td>142.00000</td>\n      <td>2014.000000</td>\n      <td>Yarra</td>\n      <td>-37.80720</td>\n      <td>144.99410</td>\n      <td>Northern Metropolitan</td>\n      <td>4019.0</td>\n    </tr>\n    <tr>\n      <th>...</th>\n      <td>...</td>\n      <td>...</td>\n      <td>...</td>\n      <td>...</td>\n      <td>...</td>\n      <td>...</td>\n      <td>...</td>\n      <td>...</td>\n      <td>...</td>\n      <td>...</td>\n      <td>...</td>\n      <td>...</td>\n      <td>...</td>\n      <td>...</td>\n      <td>...</td>\n      <td>...</td>\n      <td>...</td>\n      <td>...</td>\n      <td>...</td>\n      <td>...</td>\n      <td>...</td>\n    </tr>\n    <tr>\n      <th>13575</th>\n      <td>Wheelers Hill</td>\n      <td>12 Strada Cr</td>\n      <td>4</td>\n      <td>h</td>\n      <td>809250.0</td>\n      <td>S</td>\n      <td>Barry</td>\n      <td>26/08/2017</td>\n      <td>16.7</td>\n      <td>3150.0</td>\n      <td>...</td>\n      <td>2.0</td>\n      <td>2.0</td>\n      <td>652.0</td>\n      <td>151.96765</td>\n      <td>1981.000000</td>\n      <td>NaN</td>\n      <td>-37.90562</td>\n      <td>145.16761</td>\n      <td>South-Eastern Metropolitan</td>\n      <td>7392.0</td>\n    </tr>\n    <tr>\n      <th>13576</th>\n      <td>Williamstown</td>\n      <td>77 Merrett Dr</td>\n      <td>3</td>\n      <td>h</td>\n      <td>670150.0</td>\n      <td>SP</td>\n      <td>Williams</td>\n      <td>26/08/2017</td>\n      <td>6.8</td>\n      <td>3016.0</td>\n      <td>...</td>\n      <td>2.0</td>\n      <td>2.0</td>\n      <td>333.0</td>\n      <td>133.00000</td>\n      <td>1995.000000</td>\n      <td>NaN</td>\n      <td>-37.85927</td>\n      <td>144.87904</td>\n      <td>Western Metropolitan</td>\n      <td>6380.0</td>\n    </tr>\n    <tr>\n      <th>13577</th>\n      <td>Williamstown</td>\n      <td>83 Power St</td>\n      <td>3</td>\n      <td>h</td>\n      <td>760500.0</td>\n      <td>S</td>\n      <td>Raine</td>\n      <td>26/08/2017</td>\n      <td>6.8</td>\n      <td>3016.0</td>\n      <td>...</td>\n      <td>2.0</td>\n      <td>4.0</td>\n      <td>436.0</td>\n      <td>151.96765</td>\n      <td>1997.000000</td>\n      <td>NaN</td>\n      <td>-37.85274</td>\n      <td>144.88738</td>\n      <td>Western Metropolitan</td>\n      <td>6380.0</td>\n    </tr>\n    <tr>\n      <th>13578</th>\n      <td>Williamstown</td>\n      <td>96 Verdon St</td>\n      <td>4</td>\n      <td>h</td>\n      <td>1625000.0</td>\n      <td>PI</td>\n      <td>Sweeney</td>\n      <td>26/08/2017</td>\n      <td>6.8</td>\n      <td>3016.0</td>\n      <td>...</td>\n      <td>1.0</td>\n      <td>5.0</td>\n      <td>866.0</td>\n      <td>157.00000</td>\n      <td>1920.000000</td>\n      <td>NaN</td>\n      <td>-37.85908</td>\n      <td>144.89299</td>\n      <td>Western Metropolitan</td>\n      <td>6380.0</td>\n    </tr>\n    <tr>\n      <th>13579</th>\n      <td>Yarraville</td>\n      <td>6 Agnes St</td>\n      <td>4</td>\n      <td>h</td>\n      <td>835250.0</td>\n      <td>SP</td>\n      <td>Village</td>\n      <td>26/08/2017</td>\n      <td>6.3</td>\n      <td>3013.0</td>\n      <td>...</td>\n      <td>1.0</td>\n      <td>1.0</td>\n      <td>362.0</td>\n      <td>112.00000</td>\n      <td>1920.000000</td>\n      <td>NaN</td>\n      <td>-37.81188</td>\n      <td>144.88449</td>\n      <td>Western Metropolitan</td>\n      <td>6543.0</td>\n    </tr>\n  </tbody>\n</table>\n<p>13580 rows × 21 columns</p>\n</div>"
     },
     "execution_count": 14,
     "metadata": {},
     "output_type": "execute_result"
    }
   ],
   "source": [
    "melbourne_data = pd.read_csv('melb_data.csv')\n",
    "melbourne_data.YearBuilt.fillna(melbourne_data.YearBuilt.mean(), inplace=True)\n",
    "melbourne_data.BuildingArea.fillna(melbourne_data.BuildingArea.mean(), inplace=True)\n",
    "melbourne_data.Car.fillna(melbourne_data.Car.mean(), inplace=True)\n",
    "melbourne_data['Price'] = melbourne_data['Price']*.65\n",
    "melbourne_data"
   ]
  },
  {
   "cell_type": "code",
   "execution_count": 15,
   "metadata": {
    "ExecuteTime": {
     "end_time": "2024-04-06T14:42:53.349928Z",
     "start_time": "2024-04-06T14:42:53.347163Z"
    }
   },
   "outputs": [],
   "source": [
    "y = melbourne_data.Price\n",
    "features = ['Rooms', 'Bathroom', 'Landsize', 'Lattitude', 'Longtitude', 'BuildingArea', \"Car\", \"Distance\", \"Postcode\", \"YearBuilt\", \"Propertycount\"]\n",
    "X = melbourne_data[features]"
   ]
  },
  {
   "cell_type": "code",
   "outputs": [],
   "source": [
    "from sklearn.model_selection import train_test_split\n",
    "\n",
    "X_train, X_test, y_train, y_test = train_test_split(X, y, random_state=1)\n",
    "from sklearn.ensemble import RandomForestRegressor\n",
    "from sklearn.metrics import mean_absolute_error\n",
    "X_train: object\n",
    "X_test: object\n",
    "y_train: object\n",
    "y_test: object\n"
   ],
   "metadata": {
    "collapsed": false,
    "ExecuteTime": {
     "end_time": "2024-04-06T14:42:53.676320Z",
     "start_time": "2024-04-06T14:42:53.350842Z"
    }
   },
   "execution_count": 16
  },
  {
   "cell_type": "code",
   "execution_count": 17,
   "metadata": {
    "ExecuteTime": {
     "end_time": "2024-04-06T14:43:00.554635Z",
     "start_time": "2024-04-06T14:42:53.677365Z"
    }
   },
   "outputs": [
    {
     "name": "stdout",
     "output_type": "stream",
     "text": [
      "104939.2259607657\n"
     ]
    }
   ],
   "source": [
    "\n",
    "\n",
    "# use a RandomForestRegressor\n",
    "\n",
    "# https://scikit-learn.org/stable/modules/generated/sklearn.ensemble.RandomForestRegressor.html\n",
    "random_forest = RandomForestRegressor(random_state= 1, n_estimators= 1000, n_jobs= -1,max_features= 0.5, )\n",
    "random_forest.fit(X_train, y_train)\n",
    "preds = random_forest.predict(X_test)\n",
    "current_mae = mean_absolute_error(y_test, preds)\n",
    "print(current_mae)\n",
    "mae.append(current_mae)"
   ]
  },
  {
   "cell_type": "markdown",
   "source": [],
   "metadata": {
    "collapsed": false
   }
  },
  {
   "cell_type": "code",
   "outputs": [],
   "source": [],
   "metadata": {
    "collapsed": false,
    "ExecuteTime": {
     "end_time": "2024-04-06T14:43:00.558190Z",
     "start_time": "2024-04-06T14:43:00.556152Z"
    }
   },
   "execution_count": 17
  },
  {
   "cell_type": "code",
   "outputs": [],
   "source": [],
   "metadata": {
    "collapsed": false,
    "ExecuteTime": {
     "end_time": "2024-04-06T14:43:00.561331Z",
     "start_time": "2024-04-06T14:43:00.559635Z"
    }
   },
   "execution_count": 17
  }
 ],
 "metadata": {
  "kernelspec": {
   "display_name": ".venv",
   "language": "python",
   "name": "python3"
  },
  "language_info": {
   "codemirror_mode": {
    "name": "ipython",
    "version": 3
   },
   "file_extension": ".py",
   "mimetype": "text/x-python",
   "name": "python",
   "nbconvert_exporter": "python",
   "pygments_lexer": "ipython3",
   "version": "3.12.2"
  }
 },
 "nbformat": 4,
 "nbformat_minor": 2
}
