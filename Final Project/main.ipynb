{
 "cells": [
  {
   "cell_type": "code",
   "execution_count": 429,
   "metadata": {},
   "outputs": [],
   "source": [
    "# Package imports\n",
    "import pandas as pd "
   ]
  },
  {
   "cell_type": "code",
   "execution_count": 430,
   "metadata": {},
   "outputs": [],
   "source": [
    "# Loading the data\n",
    "train = pd.read_csv('train.csv')\n",
    "test = pd.read_csv('test.csv')"
   ]
  },
  {
   "cell_type": "code",
   "execution_count": 431,
   "metadata": {},
   "outputs": [
    {
     "data": {
      "text/plain": [
       "Index(['Patient ID', 'Age', 'Sex', 'Cholesterol', 'Blood Pressure',\n",
       "       'Heart Rate', 'Diabetes', 'Family History', 'Smoking', 'Obesity',\n",
       "       'Alcohol Consumption', 'Exercise Hours Per Week', 'Diet',\n",
       "       'Previous Heart Problems', 'Medication Use', 'Stress Level',\n",
       "       'Sedentary Hours Per Day', 'Income', 'BMI', 'Triglycerides',\n",
       "       'Physical Activity Days Per Week', 'Sleep Hours Per Day', 'Country',\n",
       "       'Continent', 'Hemisphere', 'Heart Attack Risk'],\n",
       "      dtype='object')"
      ]
     },
     "execution_count": 431,
     "metadata": {},
     "output_type": "execute_result"
    }
   ],
   "source": [
    "train.columns\n"
   ]
  },
  {
   "cell_type": "code",
   "execution_count": 432,
   "metadata": {},
   "outputs": [
    {
     "data": {
      "text/plain": [
       "Patient ID                         0\n",
       "Age                                0\n",
       "Sex                                0\n",
       "Cholesterol                        0\n",
       "Blood Pressure                     0\n",
       "Heart Rate                         0\n",
       "Diabetes                           0\n",
       "Family History                     0\n",
       "Smoking                            0\n",
       "Obesity                            0\n",
       "Alcohol Consumption                0\n",
       "Exercise Hours Per Week            0\n",
       "Diet                               0\n",
       "Previous Heart Problems            0\n",
       "Medication Use                     0\n",
       "Stress Level                       0\n",
       "Sedentary Hours Per Day            0\n",
       "Income                             0\n",
       "BMI                                0\n",
       "Triglycerides                      0\n",
       "Physical Activity Days Per Week    0\n",
       "Sleep Hours Per Day                0\n",
       "Country                            0\n",
       "Continent                          0\n",
       "Hemisphere                         0\n",
       "Heart Attack Risk                  0\n",
       "dtype: int64"
      ]
     },
     "execution_count": 432,
     "metadata": {},
     "output_type": "execute_result"
    }
   ],
   "source": [
    "train.isnull().sum()"
   ]
  },
  {
   "cell_type": "code",
   "execution_count": 433,
   "metadata": {},
   "outputs": [
    {
     "data": {
      "text/plain": [
       "0       Unhealthy\n",
       "1         Average\n",
       "2         Average\n",
       "3         Healthy\n",
       "4         Healthy\n",
       "          ...    \n",
       "7005    Unhealthy\n",
       "7006      Healthy\n",
       "7007      Average\n",
       "7008    Unhealthy\n",
       "7009      Average\n",
       "Name: Diet, Length: 7010, dtype: object"
      ]
     },
     "execution_count": 433,
     "metadata": {},
     "output_type": "execute_result"
    }
   ],
   "source": [
    "train.Diet"
   ]
  },
  {
   "cell_type": "code",
   "execution_count": 434,
   "metadata": {},
   "outputs": [
    {
     "data": {
      "text/plain": [
       "Patient ID                          object\n",
       "Age                                  int64\n",
       "Sex                                 object\n",
       "Cholesterol                          int64\n",
       "Blood Pressure                      object\n",
       "Heart Rate                           int64\n",
       "Diabetes                             int64\n",
       "Family History                       int64\n",
       "Smoking                              int64\n",
       "Obesity                              int64\n",
       "Alcohol Consumption                  int64\n",
       "Exercise Hours Per Week            float64\n",
       "Diet                                object\n",
       "Previous Heart Problems              int64\n",
       "Medication Use                       int64\n",
       "Stress Level                         int64\n",
       "Sedentary Hours Per Day            float64\n",
       "Income                               int64\n",
       "BMI                                float64\n",
       "Triglycerides                        int64\n",
       "Physical Activity Days Per Week      int64\n",
       "Sleep Hours Per Day                  int64\n",
       "Country                             object\n",
       "Continent                           object\n",
       "Hemisphere                          object\n",
       "Heart Attack Risk                    int64\n",
       "dtype: object"
      ]
     },
     "execution_count": 434,
     "metadata": {},
     "output_type": "execute_result"
    }
   ],
   "source": [
    "train.dtypes"
   ]
  },
  {
   "cell_type": "code",
   "execution_count": 435,
   "metadata": {},
   "outputs": [],
   "source": [
    "# I want to to make the continents an integer so I assigned each continent a number\n",
    "train['Continent'] = train['Continent'].map({'Asia': 0, 'Europe': 1, 'Africa': 2, 'South America': 3, 'Oceania': 4, 'North America': 5, 'Other': 6})\n",
    "# The same thing has to be done with Hemisphere\n",
    "train['Hemisphere'] = train['Hemisphere'].map({'Northern': 0, 'Southern': 1,})\n",
    "# Men you're a zero #feminism. \n",
    "train[\"Sex\"] = train[\"Sex\"].map({'Male': 0, 'Female': 1})\n",
    "# Exercise hours per week is an float but I want it to be an integer\n",
    "train[\"Exercise Hours Per Week\"] = train[\"Exercise Hours Per Week\"].astype(int)\n",
    "# Diet is object but I want to map it to an integer\n",
    "train.Diet = train.Diet.map({'Unhealthy': 0, 'Average': 1, 'Healthy': 2})\n",
    "# Sedentary hours per day is an float but I want it to be an integer. \n",
    "train[\"Sedentary Hours Per Day\"] = train[\"Sedentary Hours Per Day\"].astype(int)\n",
    "# The same is true for BMI\n",
    "train[\"BMI\"] = train[\"BMI\"].astype(int)"
   ]
  },
  {
   "cell_type": "code",
   "execution_count": 436,
   "metadata": {},
   "outputs": [],
   "source": [
    "# We need to do the same for the test data\n",
    "test['Continent'] = test['Continent'].map({'Asia': 0, 'Europe': 1, 'Africa': 2, 'South America': 3, 'Oceania': 4, 'North America': 5, 'Other': 6})\n",
    "test['Hemisphere'] = test['Hemisphere'].map({'Northern': 0, 'Southern': 1,})\n",
    "test[\"Sex\"] = test[\"Sex\"].map({'Male': 0, 'Female': 1})\n",
    "test[\"Exercise Hours Per Week\"] = test[\"Exercise Hours Per Week\"].astype(int)\n",
    "test.Diet = test.Diet.map({'Unhealthy': 0, 'Average': 1, 'Healthy': 2})\n",
    "test[\"Sedentary Hours Per Day\"] = test[\"Sedentary Hours Per Day\"].astype(int)\n",
    "test[\"BMI\"] = test[\"BMI\"].astype(int)"
   ]
  },
  {
   "cell_type": "code",
   "execution_count": 437,
   "metadata": {},
   "outputs": [],
   "source": [
    "train[['Systolic', 'Diastolic']] = train['Blood Pressure'].str.split('/', expand=True)\n",
    "\n",
    "# Convert the new columns to numeric type (optional)\n",
    "train.Systolic = pd.to_numeric(train.Systolic)\n",
    "train.Diastolic = pd.to_numeric(train.Diastolic)"
   ]
  },
  {
   "cell_type": "code",
   "execution_count": 438,
   "metadata": {},
   "outputs": [],
   "source": [
    "test[['Systolic', 'Diastolic']] = test['Blood Pressure'].str.split('/', expand=True)\n",
    "\n",
    "# Convert the new columns to numeric type (optional)\n",
    "test.Systolic = pd.to_numeric(test.Systolic)\n",
    "test.Diastolic = pd.to_numeric(test.Diastolic)"
   ]
  },
  {
   "cell_type": "code",
   "execution_count": 439,
   "metadata": {},
   "outputs": [
    {
     "data": {
      "text/plain": [
       "Patient ID                          object\n",
       "Age                                  int64\n",
       "Sex                                  int64\n",
       "Cholesterol                          int64\n",
       "Blood Pressure                      object\n",
       "Heart Rate                           int64\n",
       "Diabetes                             int64\n",
       "Family History                       int64\n",
       "Smoking                              int64\n",
       "Obesity                              int64\n",
       "Alcohol Consumption                  int64\n",
       "Exercise Hours Per Week              int64\n",
       "Diet                                 int64\n",
       "Previous Heart Problems              int64\n",
       "Medication Use                       int64\n",
       "Stress Level                         int64\n",
       "Sedentary Hours Per Day              int64\n",
       "Income                               int64\n",
       "BMI                                  int64\n",
       "Triglycerides                        int64\n",
       "Physical Activity Days Per Week      int64\n",
       "Sleep Hours Per Day                  int64\n",
       "Country                             object\n",
       "Continent                          float64\n",
       "Hemisphere                         float64\n",
       "Heart Attack Risk                    int64\n",
       "Systolic                             int64\n",
       "Diastolic                            int64\n",
       "dtype: object"
      ]
     },
     "execution_count": 439,
     "metadata": {},
     "output_type": "execute_result"
    }
   ],
   "source": [
    "train.dtypes"
   ]
  },
  {
   "cell_type": "code",
   "execution_count": 440,
   "metadata": {},
   "outputs": [],
   "source": [
    "features = ['Age', 'Sex', 'Cholesterol',\n",
    "       'Heart Rate', 'Diabetes', 'Family History', 'Smoking', 'Obesity',\n",
    "       'Alcohol Consumption', 'Exercise Hours Per Week', 'Diet',\n",
    "       'Previous Heart Problems', 'Medication Use', 'Stress Level',\n",
    "       'Sedentary Hours Per Day', 'Income', 'BMI', 'Triglycerides',\n",
    "       'Physical Activity Days Per Week', 'Sleep Hours Per Day', \"Systolic\", \"Diastolic\"]\n",
    "train_X = train[features]\n",
    "train_y = train['Heart Attack Risk']"
   ]
  },
  {
   "cell_type": "code",
   "execution_count": 441,
   "metadata": {},
   "outputs": [],
   "source": [
    "# I want to to make the continents an integer so I assigned each continent a number\n",
    "test['Continent'] = test['Continent'].map({'Asia': 0, 'Europe': 1, 'Africa': 2, 'South America': 3, 'Oceania': 4, 'North America': 5, 'Other': 6})\n",
    "# The same thing has to be done with Hemisphere\n",
    "test['Hemisphere'] = test['Hemisphere'].map({'Northern': 0, 'Southern': 1,})\n",
    "\n",
    "test_X = test[features]"
   ]
  },
  {
   "cell_type": "code",
   "execution_count": 442,
   "metadata": {},
   "outputs": [],
   "source": [
    "from sklearn.model_selection import train_test_split\n",
    "X_train, X_test, y_train, y_test = train_test_split(train_X, train_y, test_size=0.2)\n",
    "\n",
    "from sklearn.ensemble import RandomForestClassifier\n",
    "c = RandomForestClassifier(random_state = 1)\n",
    "c.fit(X_train, y_train)\n",
    "\n",
    "predictions = c.predict(X_test)"
   ]
  },
  {
   "cell_type": "code",
   "execution_count": 443,
   "metadata": {},
   "outputs": [
    {
     "name": "stdout",
     "output_type": "stream",
     "text": [
      "Confusion Matrix: [[876  14]\n",
      " [502  10]]\n",
      "Accuracy: 0.6319543509272468\n",
      "Precision: 0.4166666666666667\n",
      "Recall: 0.01953125\n",
      "F1 Score: 0.03731343283582089\n"
     ]
    }
   ],
   "source": [
    "from sklearn.metrics import accuracy_score, confusion_matrix, precision_score, recall_score, f1_score\n",
    "\n",
    "conf_matrix = confusion_matrix(y_test, predictions)\n",
    "acc = accuracy_score(y_test, predictions)\n",
    "prec = precision_score(y_test, predictions)\n",
    "rec = recall_score(y_test, predictions)\n",
    "f1 = f1_score(y_test, predictions)\n",
    "print(f\"Confusion Matrix: {conf_matrix}\")\n",
    "print(f\"Accuracy: {acc}\")\n",
    "print(f\"Precision: {prec}\")\n",
    "print(f\"Recall: {rec}\")\n",
    "print(f\"F1 Score: {f1}\")\n",
    "\n",
    "# 0.76\n",
    "# 0.80\n",
    "# 0.81"
   ]
  },
  {
   "cell_type": "code",
   "execution_count": 444,
   "metadata": {},
   "outputs": [],
   "source": [
    "# from sklearn.ensemble import RandomForestClassifier\n",
    "# c = RandomForestClassifier(random_state = 1)\n",
    "# c.fit(train_X, train_y)\n",
    "\n",
    "# predictions = c.predict(test_X)"
   ]
  }
 ],
 "metadata": {
  "kernelspec": {
   "display_name": ".venv",
   "language": "python",
   "name": "python3"
  },
  "language_info": {
   "codemirror_mode": {
    "name": "ipython",
    "version": 3
   },
   "file_extension": ".py",
   "mimetype": "text/x-python",
   "name": "python",
   "nbconvert_exporter": "python",
   "pygments_lexer": "ipython3",
   "version": "3.12.2"
  }
 },
 "nbformat": 4,
 "nbformat_minor": 2
}
